{
 "cells": [
  {
   "cell_type": "markdown",
   "metadata": {},
   "source": [
    "## Importacion de librerias"
   ]
  },
  {
   "cell_type": "markdown",
   "metadata": {},
   "source": [
    "#### Sistema"
   ]
  },
  {
   "cell_type": "code",
   "execution_count": 1,
   "metadata": {},
   "outputs": [],
   "source": [
    "import os\n",
    "import sys\n",
    "sys.path.append('../')"
   ]
  },
  {
   "cell_type": "markdown",
   "metadata": {},
   "source": [
    "#### Exploración de datos y visualización"
   ]
  },
  {
   "cell_type": "code",
   "execution_count": 2,
   "metadata": {},
   "outputs": [],
   "source": [
    "import random\n",
    "import numpy as np\n",
    "import matplotlib.pyplot as plt"
   ]
  },
  {
   "cell_type": "markdown",
   "metadata": {},
   "source": [
    "#### Manejo de Rasters"
   ]
  },
  {
   "cell_type": "code",
   "execution_count": 3,
   "metadata": {},
   "outputs": [],
   "source": [
    "import rasterio as rio"
   ]
  },
  {
   "cell_type": "markdown",
   "metadata": {},
   "source": [
    "#### Entrenamiento"
   ]
  },
  {
   "cell_type": "code",
   "execution_count": 4,
   "metadata": {},
   "outputs": [
    {
     "name": "stderr",
     "output_type": "stream",
     "text": [
      "2023-09-27 21:44:22.247526: I tensorflow/core/platform/cpu_feature_guard.cc:193] This TensorFlow binary is optimized with oneAPI Deep Neural Network Library (oneDNN) to use the following CPU instructions in performance-critical operations:  AVX2 FMA\n",
      "To enable them in other operations, rebuild TensorFlow with the appropriate compiler flags.\n",
      "2023-09-27 21:44:22.520394: E tensorflow/stream_executor/cuda/cuda_blas.cc:2981] Unable to register cuBLAS factory: Attempting to register factory for plugin cuBLAS when one has already been registered\n",
      "2023-09-27 21:44:23.190086: W tensorflow/stream_executor/platform/default/dso_loader.cc:64] Could not load dynamic library 'libnvinfer.so.7'; dlerror: libnvinfer.so.7: cannot open shared object file: No such file or directory; LD_LIBRARY_PATH: /home/theend/miniconda3/envs/soil-env/lib/python3.8/site-packages/nvidia/cudnn/lib:/home/theend/miniconda3/envs/soil-env/lib/:/usr/local/cuda-11.8/lib64:\n",
      "2023-09-27 21:44:23.190169: W tensorflow/stream_executor/platform/default/dso_loader.cc:64] Could not load dynamic library 'libnvinfer_plugin.so.7'; dlerror: libnvinfer_plugin.so.7: cannot open shared object file: No such file or directory; LD_LIBRARY_PATH: /home/theend/miniconda3/envs/soil-env/lib/python3.8/site-packages/nvidia/cudnn/lib:/home/theend/miniconda3/envs/soil-env/lib/:/usr/local/cuda-11.8/lib64:\n",
      "2023-09-27 21:44:23.190175: W tensorflow/compiler/tf2tensorrt/utils/py_utils.cc:38] TF-TRT Warning: Cannot dlopen some TensorRT libraries. If you would like to use Nvidia GPU with TensorRT, please make sure the missing libraries mentioned above are installed properly.\n"
     ]
    }
   ],
   "source": [
    "import tensorflow as tf\n",
    "from tensorflow.python.client import device_lib"
   ]
  },
  {
   "cell_type": "code",
   "execution_count": 5,
   "metadata": {},
   "outputs": [],
   "source": [
    "from src.layers.utilities import plot_merge_class, process_data_points, locations_of_pixels, plot_confusion_matrix"
   ]
  },
  {
   "cell_type": "markdown",
   "metadata": {},
   "source": [
    "#### Establecer semilla aleatoria para la reproductibilidad"
   ]
  },
  {
   "cell_type": "code",
   "execution_count": 6,
   "metadata": {},
   "outputs": [],
   "source": [
    "# Set a random seed\n",
    "RANDOM_SEED = 21\n",
    "\n",
    "# Set random state for Python\n",
    "os.environ['PYTHONHASHSEED'] = str(RANDOM_SEED)\n",
    "\n",
    "# Set random state for Python random function\n",
    "random.seed(RANDOM_SEED)\n",
    "\n",
    "# Set random state for NumPy\n",
    "np.random.seed(RANDOM_SEED)\n",
    "\n",
    "# Set random state for TensorFlow\n",
    "tf.random.set_seed(RANDOM_SEED)\n",
    "\n",
    "os.environ['TF_DETERMINISTIC_OPS'] = '1'\n",
    "os.environ['TF_CUDNN_DETERMINISTIC'] = '1'"
   ]
  },
  {
   "cell_type": "markdown",
   "metadata": {},
   "source": [
    "#### Verificar GPU"
   ]
  },
  {
   "cell_type": "code",
   "execution_count": 7,
   "metadata": {},
   "outputs": [
    {
     "name": "stdout",
     "output_type": "stream",
     "text": [
      "Versión de TensorFlow: 2.10.1\n",
      "GPU: ['device: 0, name: NVIDIA GeForce RTX 3060 Laptop GPU, pci bus id: 0000:01:00.0, compute capability: 8.6']\n",
      "Versión Cuda: 11.2\n",
      "Versión Cudnn: 8\n",
      "\n"
     ]
    },
    {
     "name": "stderr",
     "output_type": "stream",
     "text": [
      "2023-09-27 21:44:24.643817: I tensorflow/core/platform/cpu_feature_guard.cc:193] This TensorFlow binary is optimized with oneAPI Deep Neural Network Library (oneDNN) to use the following CPU instructions in performance-critical operations:  AVX2 FMA\n",
      "To enable them in other operations, rebuild TensorFlow with the appropriate compiler flags.\n",
      "2023-09-27 21:44:24.663005: I tensorflow/stream_executor/cuda/cuda_gpu_executor.cc:980] successful NUMA node read from SysFS had negative value (-1), but there must be at least one NUMA node, so returning NUMA node zero\n",
      "2023-09-27 21:44:24.692488: I tensorflow/stream_executor/cuda/cuda_gpu_executor.cc:980] successful NUMA node read from SysFS had negative value (-1), but there must be at least one NUMA node, so returning NUMA node zero\n",
      "2023-09-27 21:44:24.692763: I tensorflow/stream_executor/cuda/cuda_gpu_executor.cc:980] successful NUMA node read from SysFS had negative value (-1), but there must be at least one NUMA node, so returning NUMA node zero\n",
      "2023-09-27 21:44:25.349058: I tensorflow/stream_executor/cuda/cuda_gpu_executor.cc:980] successful NUMA node read from SysFS had negative value (-1), but there must be at least one NUMA node, so returning NUMA node zero\n",
      "2023-09-27 21:44:25.349221: I tensorflow/stream_executor/cuda/cuda_gpu_executor.cc:980] successful NUMA node read from SysFS had negative value (-1), but there must be at least one NUMA node, so returning NUMA node zero\n",
      "2023-09-27 21:44:25.349345: I tensorflow/stream_executor/cuda/cuda_gpu_executor.cc:980] successful NUMA node read from SysFS had negative value (-1), but there must be at least one NUMA node, so returning NUMA node zero\n",
      "2023-09-27 21:44:25.349438: I tensorflow/core/common_runtime/gpu/gpu_device.cc:1616] Created device /device:GPU:0 with 4107 MB memory:  -> device: 0, name: NVIDIA GeForce RTX 3060 Laptop GPU, pci bus id: 0000:01:00.0, compute capability: 8.6\n"
     ]
    }
   ],
   "source": [
    "def print_info():\n",
    "    tf_version = tf.__version__\n",
    "    gpus = [x.physical_device_desc for x in device_lib.list_local_devices() if x.device_type == 'GPU']\n",
    "    cuda_version = tf.sysconfig.get_build_info()['cuda_version']\n",
    "    cudnn_version = tf.sysconfig.get_build_info()['cudnn_version']\n",
    "    \n",
    "    print('Versión de TensorFlow: {}'.format(tf_version))\n",
    "    print('GPU: {}'.format(gpus))\n",
    "    print('Versión Cuda: {}'.format(cuda_version))\n",
    "    print('Versión Cudnn: {}\\n'.format(cudnn_version))\n",
    "\n",
    "print_info()"
   ]
  },
  {
   "cell_type": "markdown",
   "metadata": {},
   "source": [
    "# Entrenamiento Modelo"
   ]
  },
  {
   "cell_type": "code",
   "execution_count": 8,
   "metadata": {},
   "outputs": [],
   "source": [
    "from src.layers.dict_class import LandCoverClassDict\n",
    "dict_class = LandCoverClassDict()"
   ]
  },
  {
   "cell_type": "markdown",
   "metadata": {},
   "source": [
    "#### Diccionarios e identificadores de clase"
   ]
  },
  {
   "cell_type": "code",
   "execution_count": 9,
   "metadata": {},
   "outputs": [
    {
     "data": {
      "text/plain": [
       "{0: 'Sin Clasificar',\n",
       " 1: 'Bosque',\n",
       " 2: 'Cuerpo de Agua',\n",
       " 3: 'Otras Tierras',\n",
       " 4: 'Tierra Agropecuaria',\n",
       " 5: 'Vegetacion Arbustiva y Herbacea',\n",
       " 6: 'Zona Antropica'}"
      ]
     },
     "execution_count": 9,
     "metadata": {},
     "output_type": "execute_result"
    }
   ],
   "source": [
    "class_names = dict_class.get_landsat_dictionary()\n",
    "class_names"
   ]
  },
  {
   "cell_type": "code",
   "execution_count": 10,
   "metadata": {},
   "outputs": [
    {
     "data": {
      "text/plain": [
       "{0: (0, 0, 0),\n",
       " 1: (62, 178, 49),\n",
       " 2: (0, 0, 251),\n",
       " 3: (122, 125, 74),\n",
       " 4: (245, 106, 0),\n",
       " 5: (255, 165, 81),\n",
       " 6: (255, 0, 0)}"
      ]
     },
     "execution_count": 10,
     "metadata": {},
     "output_type": "execute_result"
    }
   ],
   "source": [
    "colors_class = dict_class.get_colors_dictionary()\n",
    "colors_class"
   ]
  },
  {
   "cell_type": "markdown",
   "metadata": {},
   "source": [
    "### Procesamiento de la imagen de etiquetas NLDC"
   ]
  },
  {
   "cell_type": "code",
   "execution_count": 11,
   "metadata": {},
   "outputs": [],
   "source": [
    "from src.controllers.raster import RasterController\n",
    "raster = RasterController()"
   ]
  },
  {
   "cell_type": "markdown",
   "metadata": {},
   "source": [
    "#### Configuracion de directiorios de los mosaicos (labels, rasters)"
   ]
  },
  {
   "cell_type": "code",
   "execution_count": 12,
   "metadata": {},
   "outputs": [],
   "source": [
    "label_path = '../data/images/processed/labels/landsat/landcover_ecuador_v1.tif'\n",
    "rasters_path = '../data/images/processed/products/landsat/toa/2013-2015/'"
   ]
  },
  {
   "cell_type": "markdown",
   "metadata": {},
   "source": [
    "#### Abrir Mosaico"
   ]
  },
  {
   "cell_type": "code",
   "execution_count": 13,
   "metadata": {},
   "outputs": [
    {
     "name": "stdout",
     "output_type": "stream",
     "text": [
      "Number of bands in the image: 1\n",
      "\n",
      "Image size: 25540 rows x 34000 columns\n",
      "\n",
      "Raster driver: GTiff\n",
      "\n",
      "Image projection:\n",
      " EPSG:32717\n",
      "\n"
     ]
    }
   ],
   "source": [
    "dataset_labels = raster.open_raster(raster=label_path)"
   ]
  },
  {
   "cell_type": "markdown",
   "metadata": {},
   "source": [
    "#### Lectura de mosaico"
   ]
  },
  {
   "cell_type": "code",
   "execution_count": 14,
   "metadata": {},
   "outputs": [
    {
     "data": {
      "text/plain": [
       "(1, 25540, 34000)"
      ]
     },
     "execution_count": 14,
     "metadata": {},
     "output_type": "execute_result"
    }
   ],
   "source": [
    "labels_image = raster.read_raster(dataset_labels)\n",
    "labels_image.shape"
   ]
  },
  {
   "cell_type": "code",
   "execution_count": 15,
   "metadata": {},
   "outputs": [
    {
     "data": {
      "image/png": "[encoded data removed]",
      "text/plain": [
       "<Figure size 1000x1000 with 1 Axes>"
      ]
     },
     "metadata": {},
     "output_type": "display_data"
    }
   ],
   "source": [
    "plot_merge_class(labels_image, colors_class, class_names)"
   ]
  },
  {
   "cell_type": "markdown",
   "metadata": {},
   "source": [
    "#### Generar datos de entrenamiento balanceados"
   ]
  },
  {
   "cell_type": "code",
   "execution_count": 16,
   "metadata": {},
   "outputs": [],
   "source": [
    "from src.controllers.pixel import PixelController\n",
    "pixel = PixelController(label_dataset=dataset_labels)"
   ]
  },
  {
   "cell_type": "code",
   "execution_count": 17,
   "metadata": {},
   "outputs": [],
   "source": [
    "landsat_datasets =  [rio.open(f'{rasters_path}/{raster}') for raster in os.listdir(rasters_path)]"
   ]
  },
  {
   "cell_type": "code",
   "execution_count": 18,
   "metadata": {},
   "outputs": [
    {
     "name": "stdout",
     "output_type": "stream",
     "text": [
      "Train count per dataset:  2858\n",
      "Points per class:  408\n"
     ]
    },
    {
     "name": "stderr",
     "output_type": "stream",
     "text": [
      "Processing << Zona Antropica >>: 100%|██████████| 7/7 [00:23<00:00,  3.42s/it]                 \n",
      "Processing << Zona Antropica >>: 100%|██████████| 7/7 [00:23<00:00,  3.39s/it]                 \n",
      "Processing << Zona Antropica >>: 100%|██████████| 7/7 [00:24<00:00,  3.50s/it]                 \n",
      "Processing << Zona Antropica >>: 100%|██████████| 7/7 [00:23<00:00,  3.39s/it]                 \n",
      "Processing << Zona Antropica >>: 100%|██████████| 7/7 [00:24<00:00,  3.56s/it]                 \n",
      "Processing << Zona Antropica >>: 100%|██████████| 7/7 [00:24<00:00,  3.45s/it]                 \n",
      "Processing << Zona Antropica >>: 100%|██████████| 7/7 [00:23<00:00,  3.30s/it]                 \n"
     ]
    }
   ],
   "source": [
    "train_pixels = pixel.generate_training_pixels(\n",
    "    image_datasets=landsat_datasets,\n",
    "    train_count=20000,\n",
    "    merge=True\n",
    ")"
   ]
  },
  {
   "cell_type": "markdown",
   "metadata": {},
   "source": [
    "#### Data Validation\n",
    "- Balanced and accurate dataset.\n",
    "- Actual pixel locations."
   ]
  },
  {
   "cell_type": "code",
   "execution_count": null,
   "metadata": {},
   "outputs": [],
   "source": [
    "label_locations = process_data_points(train_pixels=train_pixels, landsat_datasets=landsat_datasets, dataset_labels=dataset_labels)"
   ]
  },
  {
   "cell_type": "code",
   "execution_count": null,
   "metadata": {},
   "outputs": [],
   "source": [
    "locations_of_pixels(labels=labels_image, locations=label_locations, colors=colors_class)"
   ]
  },
  {
   "cell_type": "code",
   "execution_count": null,
   "metadata": {},
   "outputs": [],
   "source": [
    "import gc\n",
    "gc.collect()"
   ]
  },
  {
   "cell_type": "markdown",
   "metadata": {},
   "source": [
    "## Probando el generador de datos"
   ]
  },
  {
   "cell_type": "code",
   "execution_count": null,
   "metadata": {},
   "outputs": [],
   "source": [
    "from src.controllers.tile import TileController"
   ]
  },
  {
   "cell_type": "code",
   "execution_count": null,
   "metadata": {},
   "outputs": [],
   "source": [
    "#%run \"/home/theend/Documentos/Develop/Python/Jupyter/soil_desertification/src/controllers/tile.py\""
   ]
  },
  {
   "cell_type": "markdown",
   "metadata": {},
   "source": [
    "from pyproj import Proj,transform\n",
    "import math\n",
    "from rasterio.windows import Window\n",
    "from rasterio.plot import reshape_as_image\n",
    "\n",
    "def tile_generator(l8_image_datasets, label_dataset, tile_height, tile_width, pixel_locations, batch_size, merge=False):\n",
    "    # this is a keras compatible data generator which generates data and labels on the fly\n",
    "    # from a set of pixel locations, a list of image datasets, and a label dataset\n",
    "\n",
    "    c = r = 0\n",
    "    i = 0\n",
    "\n",
    "    label_proj = Proj(label_dataset.crs)\n",
    "    l8_proj = Proj(l8_image_datasets[0].crs)\n",
    "\n",
    "    # assuming all images have the same num of bands\n",
    "    l8_band_count = l8_image_datasets[0].count\n",
    "    band_count = l8_band_count\n",
    "    class_count = len(class_names)\n",
    "    buffer = math.ceil(tile_height / 2)\n",
    "\n",
    "    while True:\n",
    "        # take one off because we don't want the QA band\n",
    "        image_batch = np.zeros(\n",
    "            (batch_size, tile_height, tile_width, band_count-1))\n",
    "        label_batch = np.zeros((batch_size, class_count))\n",
    "        b = 0\n",
    "        while b < batch_size:\n",
    "            # if we're at the end  of the data just restart\n",
    "            if i >= len(pixel_locations):\n",
    "                i = 0\n",
    "            r, c = pixel_locations[i][0]\n",
    "            dataset_index = pixel_locations[i][1]\n",
    "            i += 1\n",
    "            tile = l8_image_datasets[dataset_index].read(list(np.arange(\n",
    "                1, l8_band_count+1)), window=Window(c-buffer, r-buffer, tile_width, tile_height))\n",
    "            if tile.size == 0:\n",
    "                pass\n",
    "            elif np.amax(tile) == 0:  # don't include if it is part of the image with no pixels\n",
    "                pass\n",
    "            elif np.isnan(tile).any() == True or -9999 in tile:\n",
    "                # we don't want tiles containing nan or -999 this comes from edges\n",
    "                # this also takes a while and is inefficient\n",
    "                pass\n",
    "            elif tile.shape != (l8_band_count, tile_width, tile_height):\n",
    "                # print('wrong shape')\n",
    "                # print(tile.shape)\n",
    "                # somehow we're randomly getting tiles without the correct dimensions\n",
    "                pass\n",
    "            elif np.isin(tile[7, :, :], [352, 368, 392, 416, 432, 480, 840, 864, 880, 904, 928, 944, 1352]).any() == True:\n",
    "                # make sure pixel doesn't contain clouds\n",
    "                # this is probably pretty inefficient but only checking width x height for each tile\n",
    "                # read more here: https://prd-wret.s3-us-west-2.amazonaws.com/assets/palladium/production/s3fs-public/atoms/files/LSDS-1873_US_Landsat_ARD_DFCB_0.pdf\n",
    "                # print('Found some cloud.')\n",
    "                # print(tile[7,:,:])\n",
    "                pass\n",
    "            else:\n",
    "                # taking off the QA band\n",
    "                tile = tile[0:7]\n",
    "                # reshape from raster format to image format and standardize according to image wide stats\n",
    "                reshaped_tile = (reshape_as_image(tile) - 982.5) / 1076.5\n",
    "\n",
    "                # get label data\n",
    "                # find gps of that pixel within the image\n",
    "                (x, y) = l8_image_datasets[dataset_index].xy(r, c)\n",
    "\n",
    "                # convert the point we're sampling from to the same projection as the label dataset if necessary\n",
    "                if l8_proj != label_proj:\n",
    "                    x, y = transform(l8_proj, label_proj, x, y)\n",
    "\n",
    "                # reference gps in label_image\n",
    "                row, col = label_dataset.index(x, y)\n",
    "\n",
    "                # find label\n",
    "                # label image could be huge so we need this to just get a single position\n",
    "                window = ((row, row+1), (col, col+1))\n",
    "                data = dict_class.merge_classes(label_dataset.read(\n",
    "                    1, window=window, masked=False, boundless=True), \"landsat\")\n",
    "                label = data[0, 0]\n",
    "                # if this label is part of the unclassified area then ignore\n",
    "                if label == 0 or np.isnan(label).any() == True:\n",
    "                    pass\n",
    "                else:\n",
    "                    # add label to the batch in a one hot encoding style\n",
    "                    label_batch[b][label] = 1\n",
    "                    image_batch[b] = reshaped_tile\n",
    "                    b += 1\n",
    "                    print(b)\n",
    "        yield (image_batch, label_batch)\n",
    "print('tile_generator code ready!')"
   ]
  },
  {
   "cell_type": "code",
   "execution_count": null,
   "metadata": {},
   "outputs": [],
   "source": [
    "im_batch = None\n",
    "\n",
    "count = 0\n",
    "for (im, label) in  next(TileController(landsat_datasets, dataset_labels, 128, 128, train_pixels, 10)):\n",
    "    if count > 3:\n",
    "        break\n",
    "    print('Image')\n",
    "    print(im.shape)\n",
    "    print('Label')\n",
    "    print(label.shape)\n",
    "    print('----')\n",
    "    count += 1\n",
    "    im_batch = im\n",
    "    label_batch = label"
   ]
  },
  {
   "cell_type": "code",
   "execution_count": null,
   "metadata": {},
   "outputs": [],
   "source": [
    "def normalize(image):\n",
    "    return (image - np.min(image)) / (np.max(image) - np.min(image) + 1e-6)"
   ]
  },
  {
   "cell_type": "code",
   "execution_count": null,
   "metadata": {},
   "outputs": [],
   "source": [
    "def plot_images_with_labels(image_batch, label_batch, class_names):\n",
    "    num_images = image_batch.shape[0]\n",
    "    num_cols = 3\n",
    "    num_rows = (num_images + num_cols - 1) // num_cols\n",
    "    fig, axes = plt.subplots(num_rows, num_cols, figsize=(1.62 * 10, 10))\n",
    "\n",
    "    for i in range(num_images):\n",
    "        row = i // num_cols\n",
    "        col = i % num_cols\n",
    "\n",
    "        axes[row, col].imshow(normalize(image_batch[i, :, :, 3:6]))\n",
    "        axes[row, col].set_title(class_names[np.argmax(label_batch[i])])\n",
    "\n",
    "    # Remove any empty subplots\n",
    "    for i in range(num_images, num_rows * num_cols):\n",
    "        row = i // num_cols\n",
    "        col = i % num_cols\n",
    "        fig.delaxes(axes[row, col])\n",
    "\n",
    "    plt.tight_layout()\n",
    "    plt.show()"
   ]
  },
  {
   "cell_type": "code",
   "execution_count": null,
   "metadata": {},
   "outputs": [],
   "source": [
    "plot_images_with_labels(im_batch, label_batch, class_names)"
   ]
  },
  {
   "cell_type": "markdown",
   "metadata": {},
   "source": [
    "#### Generar conjunto de datos de entrenamiento de 1x1 azulejos para scikit-learn para visualizar los datos"
   ]
  },
  {
   "cell_type": "code",
   "execution_count": null,
   "metadata": {},
   "outputs": [],
   "source": [
    "im_batch = None\n",
    "label_batch = None\n",
    "\n",
    "sample_size = 500\n",
    "\n",
    "count = 0\n",
    "for (im, label) in next(TileController(images=landsat_datasets, label=dataset_labels, height=1, width=1, pixel_locations=train_pixels, batch_size=sample_size)):\n",
    "    if count > 0:\n",
    "        break\n",
    "    print('Batch Shape')\n",
    "    print(im.shape)\n",
    "    print('Label Shape')\n",
    "    print(label.shape)\n",
    "    print('----')\n",
    "    count += 1\n",
    "    im_batch = im\n",
    "    label_batch = label"
   ]
  },
  {
   "cell_type": "markdown",
   "metadata": {},
   "source": [
    "#### Redimencionar \n",
    "Remodelar porque scikit-learn necesita datos en formato `(muestras, bandas)`:"
   ]
  },
  {
   "cell_type": "code",
   "execution_count": null,
   "metadata": {},
   "outputs": [],
   "source": [
    "im_batch[0, :, :, :]"
   ]
  },
  {
   "cell_type": "code",
   "execution_count": null,
   "metadata": {},
   "outputs": [],
   "source": [
    "im_batch_reshaped = im_batch.reshape(sample_size, 7)\n",
    "im_batch_reshaped[0]"
   ]
  },
  {
   "cell_type": "markdown",
   "metadata": {},
   "source": [
    "#### Visualizar Firmas Espectrales"
   ]
  },
  {
   "cell_type": "code",
   "execution_count": null,
   "metadata": {},
   "outputs": [],
   "source": [
    "fig, ax = plt.subplots(1, 1, figsize=[10, 10])\n",
    "\n",
    "# numbers 1-8\n",
    "band_count = np.arange(1, 8)\n",
    "\n",
    "y = np.argmax(label_batch, axis=1)\n",
    "X = im_batch_reshaped\n",
    "\n",
    "classes = np.unique(y)\n",
    "for class_type in classes:\n",
    "    band_intensity = np.mean(X[y == class_type, :], axis=0)\n",
    "    ax.plot(band_count, band_intensity, label=class_names[class_type])\n",
    "# plot them as lines\n",
    "\n",
    "# Add some axis labels\n",
    "ax.set_xlabel('Band #')\n",
    "ax.set_ylabel('Reflectance Value')\n",
    "# Add a titleA\n",
    "ax.set_title('Band Intensities Full Overview')\n",
    "ax.legend(loc='upper left')"
   ]
  },
  {
   "cell_type": "markdown",
   "metadata": {},
   "source": [
    "## Arquitectura, entrenamiento y validación de la RNN"
   ]
  },
  {
   "cell_type": "code",
   "execution_count": null,
   "metadata": {},
   "outputs": [],
   "source": [
    "from keras.models import Sequential\n",
    "from keras.layers import (\n",
    "    Bidirectional,\n",
    "    Conv2D,\n",
    "    Dense,\n",
    "    Dropout,\n",
    "    Flatten,\n",
    "    LSTM,\n",
    "    MaxPooling2D,\n",
    "    Reshape,\n",
    "    BatchNormalization,\n",
    "    Activation,\n",
    ")\n",
    "from keras.optimizers import Adam\n",
    "from keras.regularizers import l2\n",
    "from keras.callbacks import ModelCheckpoint, TensorBoard\n",
    "from sklearn.metrics import precision_score, accuracy_score, recall_score, f1_score"
   ]
  },
  {
   "cell_type": "markdown",
   "metadata": {},
   "source": [
    "#### Establecer los hiperparámetros"
   ]
  },
  {
   "cell_type": "code",
   "execution_count": null,
   "metadata": {},
   "outputs": [],
   "source": [
    "epochs = 50\n",
    "batch_size = 25\n",
    "dropout_rate = 0.3\n",
    "learning_rate = 0.001\n",
    "steps_division_factor = 1\n",
    "num_classes = len(class_names)\n",
    "\n",
    "# dimensiones de la imagen de entrada\n",
    "tile_side = 64\n",
    "img_rows, img_cols = tile_side, tile_side\n",
    "img_bands = landsat_datasets[0].count - 1\n",
    "\n",
    "input_shape = (img_rows, img_cols, img_bands)\n",
    "print(input_shape)"
   ]
  },
  {
   "cell_type": "markdown",
   "metadata": {},
   "source": [
    "#### Arquitectura CNN"
   ]
  },
  {
   "cell_type": "code",
   "execution_count": null,
   "metadata": {},
   "outputs": [],
   "source": [
    "model = Sequential()\n",
    "\n",
    "model.add(Conv2D(32, (3, 3), padding='same', input_shape=input_shape))\n",
    "model.add(BatchNormalization())\n",
    "model.add(Activation('relu'))\n",
    "model.add(MaxPooling2D(pool_size=(2, 2)))\n",
    "\n",
    "model.add(Conv2D(64, (3, 3), padding='same'))\n",
    "model.add(BatchNormalization())\n",
    "model.add(Activation('relu'))\n",
    "\n",
    "model.add(Conv2D(64, (3, 3), padding='same'))\n",
    "model.add(BatchNormalization())\n",
    "model.add(Activation('relu'))\n",
    "model.add(MaxPooling2D(pool_size=(2, 2)))\n",
    "\n",
    "model.add(Conv2D(128, (3, 3), padding='same'))\n",
    "model.add(BatchNormalization())\n",
    "model.add(Activation('relu'))\n",
    "model.add(MaxPooling2D(pool_size=(2, 2)))\n",
    "\n",
    "model.add(Conv2D(256, (3, 3), padding='same'))\n",
    "model.add(BatchNormalization())\n",
    "model.add(Activation('relu'))\n",
    "model.add(MaxPooling2D(pool_size=(2, 2)))\n",
    "model.add(Dropout(0.25))\n",
    "\n",
    "model.add(Flatten())\n",
    "\n",
    "# Agregamos una capa de Reshape para convertir la salida en 3D\n",
    "model.add(Reshape((1, 1024)))\n",
    "\n",
    "# Agregamos dos capas Bidirectional LSTM\n",
    "model.add(Bidirectional(LSTM(128, activation='relu', return_sequences=True, kernel_regularizer=l2(0.01))))\n",
    "model.add(Bidirectional(LSTM(64, activation='relu', kernel_regularizer=l2(0.01))))\n",
    "model.add(Dropout(0.5))  # Dropout adicional\n",
    "\n",
    "model.add(Dense(128, kernel_regularizer=l2(0.01)))  # Regularización L2 en capa densa\n",
    "model.add(BatchNormalization())\n",
    "model.add(Activation('relu'))\n",
    "model.add(Dropout(0.5))  # Dropout adicional\n",
    "\n",
    "model.add(Dense(128, kernel_regularizer=l2(0.01)))  # Regularización L2 en capa densa\n",
    "model.add(BatchNormalization())\n",
    "model.add(Activation('relu'))\n",
    "model.add(Dropout(0.5))  # Dropout adicional\n",
    "\n",
    "model.add(Dense(num_classes))\n",
    "model.add(Activation('softmax'))\n",
    "\n",
    "learning_rate = 0.001\n",
    "optimizer = Adam(learning_rate=learning_rate)\n",
    "\n",
    "model.compile(loss='categorical_crossentropy', optimizer=optimizer, metrics=['accuracy'])\n",
    "model.summary()"
   ]
  },
  {
   "cell_type": "markdown",
   "metadata": {},
   "source": [
    "##### Divida los datos en entrenamiento y validación"
   ]
  },
  {
   "cell_type": "code",
   "execution_count": null,
   "metadata": {},
   "outputs": [],
   "source": [
    "train_to_val_ratio = 0.7\n",
    "train_px = train_pixels[:int(len(train_pixels)*train_to_val_ratio)]\n",
    "val_px = train_pixels[int(len(train_pixels)*train_to_val_ratio):]\n",
    "print(\"# Training samples: {n_training} \\n# Validation samples: {n_val}\".format(n_training=len(train_px), n_val=len(val_px)))"
   ]
  },
  {
   "cell_type": "markdown",
   "metadata": {},
   "source": [
    "##### Tensforflow Callbacks"
   ]
  },
  {
   "cell_type": "code",
   "execution_count": null,
   "metadata": {},
   "outputs": [],
   "source": [
    "class EarlyStopping(tf.keras.callbacks.Callback):\n",
    "    def on_epoch_end(self, epoch, logs={}):\n",
    "        if (logs.get('accuracy') > 0.80):\n",
    "            print(\"\\n Se ha alcanzado el umbral PRESICION. Entrenamiento detenido.....\")\n",
    "            self.model.stop_training = True"
   ]
  },
  {
   "cell_type": "code",
   "execution_count": null,
   "metadata": {},
   "outputs": [],
   "source": [
    "early_stopping = EarlyStopping()\n",
    "tensorboard = TensorBoard(log_dir='../reports/landsat/v1/logs')\n",
    "checkpoint = ModelCheckpoint('../models/v1/landsat.h5', monitor='accuracy', verbose=1, save_best_only=True, mode='max')"
   ]
  },
  {
   "cell_type": "code",
   "execution_count": null,
   "metadata": {},
   "outputs": [],
   "source": [
    "history = model.fit(\n",
    "    next(TileController(landsat_datasets,\n",
    "        dataset_labels,\n",
    "        tile_side,\n",
    "        tile_side,\n",
    "        train_px,\n",
    "        batch_size)),\n",
    "    steps_per_epoch=len(train_px) // batch_size // steps_division_factor, epochs=epochs, verbose=1,\n",
    "    validation_data=next(\n",
    "    TileController(landsat_datasets,\n",
    "        dataset_labels,\n",
    "        tile_side,\n",
    "        tile_side,\n",
    "        val_px,\n",
    "        batch_size)),\n",
    "    validation_steps=len(val_px) // batch_size,\n",
    "    callbacks=[checkpoint, early_stopping, tensorboard]\n",
    ")"
   ]
  },
  {
   "cell_type": "code",
   "execution_count": null,
   "metadata": {},
   "outputs": [],
   "source": [
    "print(history.history.keys())\n",
    "#  \"Accuracy\"\n",
    "plt.plot(history.history['accuracy'])\n",
    "plt.plot(history.history['val_accuracy'])\n",
    "plt.title('model accuracy')\n",
    "plt.ylabel('accuracy')\n",
    "plt.xlabel('epoch')\n",
    "plt.legend(['train', 'validation'], loc='upper left')\n",
    "plt.show()\n",
    "\n",
    "# \"Loss\"\n",
    "plt.plot(history.history['loss'])\n",
    "plt.plot(history.history['val_loss'])\n",
    "plt.title('model loss')\n",
    "plt.ylabel('loss')\n",
    "plt.xlabel('epoch')\n",
    "plt.legend(['train', 'validation'], loc='upper left')\n",
    "plt.show()"
   ]
  },
  {
   "cell_type": "markdown",
   "metadata": {},
   "source": [
    "### Comprobar el resultado con los datos de validación"
   ]
  },
  {
   "cell_type": "code",
   "execution_count": null,
   "metadata": {},
   "outputs": [],
   "source": [
    "predictions = model.predict(\n",
    "    next(\n",
    "        TileController(\n",
    "            landsat_datasets, dataset_labels, tile_side, tile_side, val_px, batch_size\n",
    "        )\n",
    "    ),\n",
    "    steps=len(val_px) // batch_size,\n",
    "    verbose=1,\n",
    ")"
   ]
  },
  {
   "cell_type": "code",
   "execution_count": null,
   "metadata": {},
   "outputs": [],
   "source": [
    "eval_generator = next(\n",
    "    TileController(\n",
    "        landsat_datasets, dataset_labels, tile_side, tile_side, val_px, batch_size=1\n",
    "    )\n",
    ")"
   ]
  },
  {
   "cell_type": "code",
   "execution_count": null,
   "metadata": {},
   "outputs": [],
   "source": [
    "predictions.shape"
   ]
  },
  {
   "cell_type": "code",
   "execution_count": null,
   "metadata": {},
   "outputs": [],
   "source": [
    "labels = np.empty(predictions.shape)\n",
    "count = 0\n",
    "while count < len(labels):\n",
    "    image_b, label_b = next(eval_generator)\n",
    "    labels[count] = label_b\n",
    "    count += 1\n",
    "\n",
    "label_index = np.argmax(labels, axis=1)\n",
    "pred_index = np.argmax(predictions, axis=1)\n",
    "\n",
    "np.set_printoptions(precision=2)"
   ]
  },
  {
   "cell_type": "markdown",
   "metadata": {},
   "source": [
    "#### Trazar matriz de confusión no normalizada"
   ]
  },
  {
   "cell_type": "code",
   "execution_count": null,
   "metadata": {},
   "outputs": [],
   "source": [
    "plot_confusion_matrix(\n",
    "    label_index,\n",
    "    pred_index,\n",
    "    class_dict=class_names,\n",
    "    title='Confusion matrix - Unnormalized',\n",
    ")"
   ]
  },
  {
   "cell_type": "markdown",
   "metadata": {},
   "source": [
    "#### Trazar matriz de confusión normalizada"
   ]
  },
  {
   "cell_type": "code",
   "execution_count": null,
   "metadata": {},
   "outputs": [],
   "source": [
    "_ = plot_confusion_matrix(\n",
    "    label_index,\n",
    "    pred_index,\n",
    "    class_dict=class_names,\n",
    "    title='Confusion matrix - Normalized',\n",
    "    normalize=True\n",
    ")"
   ]
  },
  {
   "cell_type": "code",
   "execution_count": null,
   "metadata": {},
   "outputs": [],
   "source": [
    "print(\"Accuracy: {accuracy:.2f}%\".format(accuracy=accuracy_score(label_index, pred_index)*100))\n",
    "print(\"Precision: {precision:.2f}%\".format(precision=precision_score(label_index, pred_index, average='weighted')*100))\n",
    "print(\"Recall: {recall:.2f}%\".format(recall=recall_score(label_index, pred_index, average='weighted')*100))\n",
    "print(\"F1 score: {f1:.2f}%\".format(f1=f1_score(label_index, pred_index, average='weighted')*100))"
   ]
  },
  {
   "cell_type": "markdown",
   "metadata": {},
   "source": [
    "### Comprobar el resultado con los datos de entrenamiento"
   ]
  },
  {
   "cell_type": "code",
   "execution_count": null,
   "metadata": {},
   "outputs": [],
   "source": [
    "predictions = model.predict(\n",
    "    next(\n",
    "        TileController(\n",
    "            landsat_datasets, dataset_labels, tile_side, tile_side, train_px, batch_size\n",
    "        )\n",
    "    ),\n",
    "    steps=len(train_px) // batch_size,\n",
    "    verbose=1,\n",
    ")"
   ]
  },
  {
   "cell_type": "code",
   "execution_count": null,
   "metadata": {},
   "outputs": [],
   "source": [
    "predictions = model.predict(\n",
    "    next(\n",
    "        TileController(\n",
    "            landsat_datasets, dataset_labels, tile_side, tile_side, train_px, batch_size\n",
    "        )\n",
    "    ),\n",
    "    steps=len(train_px) // batch_size,\n",
    "    verbose=1,\n",
    ")"
   ]
  },
  {
   "cell_type": "code",
   "execution_count": null,
   "metadata": {},
   "outputs": [],
   "source": [
    "labels = np.empty(predictions.shape)\n",
    "count = 0\n",
    "while count < len(labels):\n",
    "    image_b, label_b = next(eval_generator)\n",
    "    labels[count] = label_b\n",
    "    count += 1\n",
    "\n",
    "label_index = np.argmax(labels, axis=1)\n",
    "pred_index = np.argmax(predictions, axis=1)\n",
    "\n",
    "np.set_printoptions(precision=2)"
   ]
  },
  {
   "cell_type": "markdown",
   "metadata": {},
   "source": [
    "#### Trazar matriz de confusión no normalizada"
   ]
  },
  {
   "cell_type": "code",
   "execution_count": null,
   "metadata": {},
   "outputs": [],
   "source": [
    "_ = plot_confusion_matrix(\n",
    "    label_index,\n",
    "    pred_index,\n",
    "    class_dict=class_names,\n",
    "    title='Confusion matrix - Unnormalized'\n",
    ")"
   ]
  },
  {
   "cell_type": "markdown",
   "metadata": {},
   "source": [
    "#### Trazar matriz de confusión normalizada"
   ]
  },
  {
   "cell_type": "code",
   "execution_count": null,
   "metadata": {},
   "outputs": [],
   "source": [
    "_ = plot_confusion_matrix(\n",
    "    label_index,\n",
    "    pred_index,\n",
    "    class_dict=class_names,\n",
    "    title='Confusion matrix - Normalized',\n",
    "    normalize=True\n",
    ")"
   ]
  },
  {
   "cell_type": "code",
   "execution_count": null,
   "metadata": {},
   "outputs": [],
   "source": [
    "print(\"Accuracy: {accuracy:.2f}%\".format(accuracy=accuracy_score(label_index, pred_index)*100))\n",
    "print(\"Precision: {precision:.2f}%\".format(precision=precision_score(label_index, pred_index, average='weighted')*100))\n",
    "print(\"Recall: {recall:.2f}%\".format(recall=recall_score(label_index, pred_index, average='weighted')*100))\n",
    "print(\"F1 score: {f1:.2f}%\".format(f1=f1_score(label_index, pred_index, average='weighted')*100))"
   ]
  },
  {
   "cell_type": "code",
   "execution_count": null,
   "metadata": {},
   "outputs": [],
   "source": [
    "print(\"IPython Notebook execution completed!\")"
   ]
  }
 ],
 "metadata": {
  "kernelspec": {
   "display_name": "soil-env",
   "language": "python",
   "name": "python3"
  },
  "language_info": {
   "codemirror_mode": {
    "name": "ipython",
    "version": 3
   },
   "file_extension": ".py",
   "mimetype": "text/x-python",
   "name": "python",
   "nbconvert_exporter": "python",
   "pygments_lexer": "ipython3",
   "version": "3.8.18"
  },
  "orig_nbformat": 4
 },
 "nbformat": 4,
 "nbformat_minor": 2
}
